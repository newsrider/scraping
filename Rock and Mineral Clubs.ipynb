{
 "cells": [
  {
   "cell_type": "code",
   "execution_count": 2,
   "metadata": {
    "collapsed": true
   },
   "outputs": [],
   "source": [
    "import requests\n",
    "from bs4 import BeautifulSoup\n",
    "import pandas as pd"
   ]
  },
  {
   "cell_type": "code",
   "execution_count": 7,
   "metadata": {
    "collapsed": true
   },
   "outputs": [],
   "source": [
    "response = requests.get('https://rocktumbler.com/blog/rock-and-mineral-clubs/')\n",
    "doc = BeautifulSoup(response.text, 'html.parser')"
   ]
  },
  {
   "cell_type": "code",
   "execution_count": 8,
   "metadata": {
    "collapsed": true
   },
   "outputs": [],
   "source": [
    "#name of the club, its city and the URL "
   ]
  },
  {
   "cell_type": "code",
   "execution_count": 6,
   "metadata": {
    "collapsed": true
   },
   "outputs": [],
   "source": [
    "data = []\n",
    "elements = doc.find_all('tr')\n",
    "for element in elements:\n",
    "    datapoint = {}\n",
    "    if element.find('h3') or element.find('bgcolor_' == '#FFFFFF'):\n",
    "        continue\n",
    "    else:\n",
    "        datapoint['City'] = element.find(width='40%').text\n",
    "        datapoint['Club'] = element.text\n",
    "        datapoint['Link'] = element.find('a')['href']\n",
    "        data.append(datapoint)\n",
    "\n",
    "df = pd.DataFrame(data)\n",
    "df.to_csv(\"test.csv\", index=False)    \n",
    "# it did not work. \n",
    "#here I have questions about indention with continue; it does not populate the data set.  "
   ]
  },
  {
   "cell_type": "code",
   "execution_count": 28,
   "metadata": {
    "collapsed": true
   },
   "outputs": [],
   "source": [
    "#this one is cleaner, \n",
    "data = []\n",
    "elements = doc.find_all('tr',{'bgcolor':'#FFFFFF'}) \n",
    "for element in elements: \n",
    "    datapoint={}\n",
    "    datapoint[\"City\"]=element.find(width=\"40%\").text\n",
    "    datapoint[\"Club\"]=element.find(\"td\").text\n",
    "    datapoint[\"URL\"]=element.find('a')[\"href\"]\n",
    "    data.append(datapoint)\n",
    "\n",
    "df = pd.DataFrame(data)\n",
    "df.to_csv(\"rock-club.csv\", index=False)\n"
   ]
  },
  {
   "cell_type": "code",
   "execution_count": null,
   "metadata": {
    "collapsed": true
   },
   "outputs": [],
   "source": []
  }
 ],
 "metadata": {
  "kernelspec": {
   "display_name": "Python 3",
   "language": "python",
   "name": "python3"
  },
  "language_info": {
   "codemirror_mode": {
    "name": "ipython",
    "version": 3
   },
   "file_extension": ".py",
   "mimetype": "text/x-python",
   "name": "python",
   "nbconvert_exporter": "python",
   "pygments_lexer": "ipython3",
   "version": "3.6.3"
  }
 },
 "nbformat": 4,
 "nbformat_minor": 2
}
